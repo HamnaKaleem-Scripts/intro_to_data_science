{
 "cells": [
  {
   "cell_type": "markdown",
   "id": "85914dba-eb3b-4f37-8cc6-3e34cc4e9efa",
   "metadata": {},
   "source": [
    "# Smart Data Aggregator Tool\n",
    "\n",
    "### Overview\n",
    "This project involves building a data aggregator tool to manage user data using **Lists**, **Tuples**, **Sets**, and **Dictionaries** in Python.\n"
   ]
  },
  {
   "cell_type": "markdown",
   "id": "05ce31b4-8f54-4878-85fe-40e5467522a1",
   "metadata": {},
   "source": [
    "## Part 1: User Data Processing with Lists\n",
    "Tasks:\n",
    "- Filter users older than 30 from the USA and Canada, extracting their names.\n",
    "- Sort the list by age and return the 10 oldest users.\n",
    "- Identify duplicate names in the list.\n",
    "\n",
    "Functions:\n",
    "- **Filter & Extract**: Filters and extracts user names.\n",
    "- **Sort & Find Oldest**: Sorts by age to find top 10 oldest users.\n",
    "- **Check Duplicates**: Checks for duplicate names in the list."
   ]
  },
  {
   "cell_type": "code",
   "execution_count": null,
   "id": "f1c34f57-7066-4c6f-921e-49d443ad9752",
   "metadata": {},
   "outputs": [],
   "source": [
    "def filter_names(users):\n",
    "    names=[]\n",
    "    for user in users:\n",
    "        if user[2] > 30 and (user[3] == 'USA' or user[3] == 'Canada'):\n",
    "            names.append(user[1]) \n",
    "    return names\n",
    "    "
   ]
  },
  {
   "cell_type": "code",
   "execution_count": null,
   "id": "83a8312a-f374-461b-a712-5a8648ba4967",
   "metadata": {},
   "outputs": [],
   "source": [
    "def function2(users):\n",
    "    users.sort(key=lambda user: user[2]) \n",
    "    old = users[-10:] \n",
    "\n",
    "    names = []  \n",
    "    for i in users:\n",
    "        name = i[1]  \n",
    "        names.append(name)\n",
    "    \n",
    "    unique_names = set() \n",
    "    duplicates = set()  \n",
    "\n",
    "    for name in names:\n",
    "        if name in unique_names:\n",
    "            duplicates.add(name) \n",
    "        else:\n",
    "            unique_names.add(name)  \n",
    "\n",
    "    return old, duplicates"
   ]
  },
  {
   "cell_type": "markdown",
   "id": "1e55c21c-5ffd-4686-b514-ef2a2b1888ff",
   "metadata": {},
   "source": [
    "users = [\n",
    "    (1, \"Alice\", 28, \"USA\"),\n",
    "    (2, \"Bob\", 34, \"Canada\"),\n",
    "    (3, \"Charlie\", 40, \"USA\"),\n",
    "    (4, \"David\", 32, \"UK\"),\n",
    "    (5, \"Alice\", 29, \"USA\")    \n",
    "]\n",
    "\n",
    "old, duplicates = function2(users)\n",
    "\n",
    "print(\"Top 10 Oldest Users:\")\n",
    "for i in old:\n",
    "    print(i)\n",
    "\n",
    "print(\"Duplicate Names:\", duplicates)\n"
   ]
  },
  {
   "cell_type": "markdown",
   "id": "1252ac3b-77df-42c8-ba12-efbb732b6e4a",
   "metadata": {},
   "source": [
    "## Part 2: Immutable Data Management with Tuples\n",
    "**Tasks:**\n",
    "- Count unique users in a list of transaction tuples.\n",
    "- Find the transaction with the highest amount.\n",
    "- Separate transaction and user IDs."
   ]
  },
  {
   "cell_type": "code",
   "execution_count": null,
   "id": "8cf72679-4490-4028-9b8e-a2bf4f95e8ce",
   "metadata": {},
   "outputs": [],
   "source": [
    "def function_1(t):\n",
    "    users = set()  \n",
    "\n",
    "    for i in t:\n",
    "        user_id = i[1]\n",
    "        users.add(user_id) \n",
    "    \n",
    "    return len(users) \n",
    "\n",
    "t = [\n",
    "    (1, 101, 250.75, '2024-10-01 12:00:00'),\n",
    "    (2, 102, 150.00, '2024-10-01 12:05:00'),\n",
    "    (3, 103, 320.50, '2024-10-01 12:10:00'),\n",
    "    (4, 101, 180.00, '2024-10-01 12:15:00'), \n",
    "    (5, 104, 500.00, '2024-10-01 12:20:00'), \n",
    "]\n",
    "\n",
    "unique_user = function_1(t)\n",
    "print(\"Total number of unique users:\", unique_user)"
   ]
  },
  {
   "cell_type": "code",
   "execution_count": null,
   "id": "996820e9-31f8-4c6d-bef5-fe76b64f4a24",
   "metadata": {},
   "outputs": [],
   "source": [
    "def function_2(t):\n",
    "    amount = max(transactions, key=lambda transaction: transaction[2])\n",
    "\n",
    "    transaction_ids = [] \n",
    "    user_ids = []  \n",
    "\n",
    "    for i in t:        \n",
    "        transaction_ids.append(i[0])\n",
    "        user_ids.append(i[1])\n",
    "\n",
    "    return amount, transaction_ids, user_ids\n",
    "\n",
    "transactions = [\n",
    "    (1, 101, 250.75, '2024-10-01 12:00:00'),\n",
    "    (2, 102, 150.00, '2024-10-01 12:05:00'),\n",
    "    (3, 103, 320.50, '2024-10-01 12:10:00'),\n",
    "    (4, 101, 180.00, '2024-10-01 12:15:00'),\n",
    "    (5, 104, 500.00, '2024-10-01 12:20:00'),\n",
    "]\n",
    "\n",
    "highest_transaction, transaction_ids, user_ids = function_2(transactions)\n",
    "\n",
    "print(\"Transaction with the highest amount:\", highest_transaction)\n",
    "print(\"Transaction IDs:\", transaction_ids)\n",
    "print(\"User IDs:\", user_ids)"
   ]
  },
  {
   "cell_type": "markdown",
   "id": "3680b733-266a-4930-89af-9679fe6e9d35",
   "metadata": {},
   "source": [
    "## Part 3: Unique Data Handling with Sets\n",
    "**Tasks:**\n",
    "- Identify users visiting both Page A and Page B.\n",
    "- Find users who visited either Page A or Page C, but not both.\n",
    "- Update Page A's set with new user IDs, and remove specific IDs from Page B."
   ]
  },
  {
   "cell_type": "code",
   "execution_count": null,
   "id": "ab1b7407-24cc-4252-8646-cfb4bdb96bc9",
   "metadata": {},
   "outputs": [],
   "source": [
    "def page_visitors(A, B, C):\n",
    "    users_A_and_b = A.intersection(B)\n",
    "    users_A_or_c = A.symmetric_difference(C)\n",
    "    return users_A_and_b, users_A_or_c"
   ]
  },
  {
   "cell_type": "code",
   "execution_count": null,
   "id": "ee597304-f2c6-4ea2-ba0d-b332fb6a4490",
   "metadata": {},
   "outputs": [],
   "source": [
    "def update_A(A, new_id):\n",
    "    A.update(new_id)"
   ]
  },
  {
   "cell_type": "code",
   "execution_count": null,
   "id": "86b99638-56f1-432f-a4dc-e31d229ae8c3",
   "metadata": {},
   "outputs": [],
   "source": [
    "def remove_from_B(B, user_id):\n",
    "    B.difference_update(user_id)"
   ]
  },
  {
   "cell_type": "code",
   "execution_count": null,
   "id": "e1c49c03-adb6-4964-9e99-2985c2536241",
   "metadata": {},
   "outputs": [],
   "source": [
    "A_visitors = {\"user1\", \"user2\", \"user3\", \"user4\"}\n",
    "B_visitors = {\"user3\", \"user4\", \"user5\"}\n",
    "C_visitors = {\"user2\", \"user6\", \"user7\"}"
   ]
  },
  {
   "cell_type": "code",
   "execution_count": null,
   "id": "54f4f0e4-9e86-4380-8e44-5a98d541e169",
   "metadata": {},
   "outputs": [],
   "source": [
    "\n",
    "c, e = page_visitors(A_visitors, B_visitors, C_visitors)\n",
    "\n",
    "print(\"Users who visited both Page A and Page B:\", c)\n",
    "print(\"Users who visited either Page A or Page C but not both:\", e)"
   ]
  },
  {
   "cell_type": "code",
   "execution_count": null,
   "id": "501660ee-0d61-40a1-a5e9-337ea976ba47",
   "metadata": {},
   "outputs": [],
   "source": [
    "a = {\"user5\", \"user8\"}\n",
    "update_A(A_visitors,a)\n",
    "print(\"Updated visitors for Page A:\", A_visitors)\n",
    "\n"
   ]
  },
  {
   "cell_type": "code",
   "execution_count": null,
   "id": "596152c6-2fde-4825-9ac4-66debe6ad7da",
   "metadata": {},
   "outputs": [],
   "source": [
    "b= [\"user4\"]\n",
    "remove_from_B(B_visitors, b)\n",
    "print(\"Updated visitors for Page B:\", B_visitors)"
   ]
  },
  {
   "cell_type": "markdown",
   "id": "1e195816-8d92-46f9-874e-e7e5dfc21724",
   "metadata": {},
   "source": [
    "## Part 4: Data Aggregation with Dictionaries\n",
    "**Tasks:**\n",
    "- Filter users with ratings of 4 or higher.\n",
    "- Sort user feedback by rating, showing the top 5 users.\n",
    "- Merge feedback, updating ratings to the highest one for each user."
   ]
  },
  {
   "cell_type": "code",
   "execution_count": null,
   "id": "bb182ad2-72fa-42ae-a450-8828caba83c8",
   "metadata": {},
   "outputs": [],
   "source": [
    "def function_1(feedback):\n",
    "    user = {}\n",
    "    for user_id, details in feedback.items():\n",
    "        if details['rating'] >= 4:\n",
    "            user[user_id] = details['rating']\n",
    "    return user\n"
   ]
  },
  {
   "cell_type": "code",
   "execution_count": null,
   "id": "0352e126-6244-4ef5-b90d-9c7cf2bb2198",
   "metadata": {},
   "outputs": [],
   "source": [
    "def function_2(feedback):\n",
    "    sorted = sorted(feedback.items(), key=lambda item: item[1]['rating'], reverse=True)\n",
    "    top = {}\n",
    "    for user_id, detail in sorted[:5]: \n",
    "        top[user_id] = detail['rating']\n",
    "    return top"
   ]
  },
  {
   "cell_type": "code",
   "execution_count": null,
   "id": "8cfd897a-2d46-4df2-9d11-4b15758b9144",
   "metadata": {},
   "outputs": [],
   "source": [
    "def function_3(feedback_list):\n",
    "    combined_feedback = {}\n",
    "    for i in feedback_list:\n",
    "        for user_id, detail in i.items():\n",
    "            if user_id in combined_feedback:\n",
    "                if detail['rating'] > combined_feedback[user_id]['rating']:\n",
    "                    combined_feedback[user_id]['rating'] = detail['rating']\n",
    "                combined_feedback[user_id]['comments'].append(detail['comments'])\n",
    "            else:\n",
    "                combined_feedback[user_id] = {\n",
    "                    'rating': detail['rating'],\n",
    "                    'comments': [detail['comments']]\n",
    "                }\n",
    "    return combined_feedback"
   ]
  },
  {
   "cell_type": "code",
   "execution_count": null,
   "id": "88aaad19-3812-437d-8c3b-4893957a0f9c",
   "metadata": {},
   "outputs": [],
   "source": [
    "def function_4(feedback):\n",
    "    user = {}\n",
    "    for user_id, details in feedback.items():\n",
    "        if details['rating'] > 3:\n",
    "            user[user_id] = details['rating']\n",
    "    return user"
   ]
  },
  {
   "cell_type": "code",
   "execution_count": null,
   "id": "ec6ce496-7c88-4ee9-98bf-fdf599830b6e",
   "metadata": {},
   "outputs": [],
   "source": [
    "user_feedback = {\n",
    "    1: {'rating': 5, 'comments': 'Excellent!'},\n",
    "    2: {'rating': 3, 'comments': 'Good.'},\n",
    "    3: {'rating': 4, 'comments': 'Very good!'},\n",
    "    4: {'rating': 2, 'comments': 'Not satisfied.'},\n",
    "    5: {'rating': 4, 'comments': 'Quite nice!'},\n",
    "    6: {'rating': 5, 'comments': 'Outstanding!'},\n",
    "}"
   ]
  },
  {
   "cell_type": "code",
   "execution_count": null,
   "id": "fc69e322-8dd6-4bf7-8d35-bb247084bc55",
   "metadata": {},
   "outputs": [],
   "source": [
    "user = function_1(user_feedback)\n",
    "print(\"Users with ratings 4 or higher:\", user)\n",
    "top_users = function_2(user_feedback)\n",
    "print(\"Top 5 users by rating:\", top_users)\n",
    "feedback_dicts = [\n",
    "    {\n",
    "        1: {'rating': 5, 'comments': 'Excellent!'},\n",
    "        2: {'rating': 3, 'comments': 'Good.'},\n",
    "    },\n",
    "    {\n",
    "        2: {'rating': 4, 'comments': 'Very good!'},\n",
    "        3: {'rating': 5, 'comments': 'Great service!'},\n",
    "    },\n",
    "]"
   ]
  },
  {
   "cell_type": "code",
   "execution_count": null,
   "id": "450e44eb-078b-4e2a-b32f-3ef0ac75a863",
   "metadata": {},
   "outputs": [],
   "source": [
    "combined_feedback = function_3(feedback_dicts)\n",
    "print(\"Combined feedback:\", combined_feedback)\n",
    "high_ratings = function_4(user_feedback)\n",
    "print(\"Users with ratings greater than 3:\", high_ratings)"
   ]
  }
 ],
 "metadata": {
  "kernelspec": {
   "display_name": "Python 3 (ipykernel)",
   "language": "python",
   "name": "python3"
  },
  "language_info": {
   "codemirror_mode": {
    "name": "ipython",
    "version": 3
   },
   "file_extension": ".py",
   "mimetype": "text/x-python",
   "name": "python",
   "nbconvert_exporter": "python",
   "pygments_lexer": "ipython3",
   "version": "3.11.1"
  }
 },
 "nbformat": 4,
 "nbformat_minor": 5
}
