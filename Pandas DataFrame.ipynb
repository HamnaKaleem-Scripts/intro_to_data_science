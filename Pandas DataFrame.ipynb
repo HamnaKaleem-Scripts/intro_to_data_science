{
 "cells": [
  {
   "cell_type": "markdown",
   "id": "f636b142-5285-4132-a14b-b927c8386c7c",
   "metadata": {},
   "source": [
    "#                                                 Assignment 05"
   ]
  },
  {
   "cell_type": "markdown",
   "id": "0ceebbbc-a760-4632-80ed-18a22fd72ad3",
   "metadata": {},
   "source": [
    "# Task 1"
   ]
  },
  {
   "cell_type": "markdown",
   "id": "24db72bc-773f-41c3-b2c8-7f0e6bee3fd2",
   "metadata": {},
   "source": [
    "Load the given datasets into Pandas DataFrames. Inspect the datasets and perform the\n",
    "following:\n",
    "• Display the first few rows of each dataset.\n",
    "• Show the total number of rows and columns.\n",
    "• Check for missing values in each dataset and handle them appropriately."
   ]
  },
  {
   "cell_type": "code",
   "execution_count": 6,
   "id": "8351726c-710a-4ae6-a0c1-8c974ffd2faf",
   "metadata": {},
   "outputs": [
    {
     "name": "stdout",
     "output_type": "stream",
     "text": [
      "   CustomerID  Age         City\n",
      "0           1   22     New York\n",
      "1           2   23  Los Angeles\n",
      "2           3   24      Chicago\n",
      "3           4   25      Houston\n",
      "4           5   26      Phoenix\n",
      "   SaleID  CustomerID     Product  Amount\n",
      "0     101           1      Laptop     200\n",
      "1     102           2  Smartphone     500\n",
      "2     103           3      Tablet     800\n",
      "3     104           4  Headphones    1100\n",
      "4     105           5     Monitor    1400\n",
      "(100, 3)\n",
      "(400, 4)\n",
      "CustomerID    0\n",
      "Age           0\n",
      "City          0\n",
      "dtype: int64\n",
      "SaleID        0\n",
      "CustomerID    0\n",
      "Product       0\n",
      "Amount        0\n",
      "dtype: int64\n"
     ]
    }
   ],
   "source": [
    "import pandas as pd\n",
    "\n",
    "customers_df = pd.read_csv('C:\\\\Users\\\\LENOVO\\\\Desktop\\\\AI\\\\customers.csv')\n",
    "sales_df = pd.read_csv('C:\\\\Users\\\\LENOVO\\\\Desktop\\\\AI\\\\sales.csv')\n",
    "\n",
    "\n",
    "\n",
    "print(customers_df.head())\n",
    "print(sales_df.head())\n",
    "\n",
    "\n",
    "print(customers_df.shape)\n",
    "print(sales_df.shape)\n",
    "\n",
    "\n",
    "print(customers_df.isnull().sum())\n",
    "print(sales_df.isnull().sum())\n",
    "\n",
    "customers_df = customers_df.dropna() \n",
    "sales_df = sales_df.dropna()"
   ]
  },
  {
   "cell_type": "markdown",
   "id": "8f763bc8-053d-4c27-b7ac-3451c13135b8",
   "metadata": {},
   "source": [
    "# Task 2 "
   ]
  },
  {
   "cell_type": "markdown",
   "id": "676b1b0b-b6d8-402a-ade2-60d8daf6271a",
   "metadata": {},
   "source": [
    "Using the customers.csv file, convert its data into a Python dictionary. Use the dictionary to\n",
    "filter customers from a specific city. Repeat the operation using a DataFrame and compare\n",
    "the efficiency of both approaches."
   ]
  },
  {
   "cell_type": "code",
   "execution_count": 7,
   "id": "074ac6d5-6e3f-49cc-b56c-839ebaae8ca5",
   "metadata": {},
   "outputs": [
    {
     "name": "stdout",
     "output_type": "stream",
     "text": [
      "[{'CustomerID': 1, 'Age': 22, 'City': 'New York'}, {'CustomerID': 6, 'Age': 27, 'City': 'New York'}, {'CustomerID': 11, 'Age': 32, 'City': 'New York'}, {'CustomerID': 16, 'Age': 37, 'City': 'New York'}, {'CustomerID': 21, 'Age': 42, 'City': 'New York'}, {'CustomerID': 26, 'Age': 47, 'City': 'New York'}, {'CustomerID': 31, 'Age': 22, 'City': 'New York'}, {'CustomerID': 36, 'Age': 27, 'City': 'New York'}, {'CustomerID': 41, 'Age': 32, 'City': 'New York'}, {'CustomerID': 46, 'Age': 37, 'City': 'New York'}, {'CustomerID': 51, 'Age': 42, 'City': 'New York'}, {'CustomerID': 56, 'Age': 47, 'City': 'New York'}, {'CustomerID': 61, 'Age': 22, 'City': 'New York'}, {'CustomerID': 66, 'Age': 27, 'City': 'New York'}, {'CustomerID': 71, 'Age': 32, 'City': 'New York'}, {'CustomerID': 76, 'Age': 37, 'City': 'New York'}, {'CustomerID': 81, 'Age': 42, 'City': 'New York'}, {'CustomerID': 86, 'Age': 47, 'City': 'New York'}, {'CustomerID': 91, 'Age': 22, 'City': 'New York'}, {'CustomerID': 96, 'Age': 27, 'City': 'New York'}]\n",
      "    CustomerID  Age      City\n",
      "0            1   22  New York\n",
      "5            6   27  New York\n",
      "10          11   32  New York\n",
      "15          16   37  New York\n",
      "20          21   42  New York\n",
      "25          26   47  New York\n",
      "30          31   22  New York\n",
      "35          36   27  New York\n",
      "40          41   32  New York\n",
      "45          46   37  New York\n",
      "50          51   42  New York\n",
      "55          56   47  New York\n",
      "60          61   22  New York\n",
      "65          66   27  New York\n",
      "70          71   32  New York\n",
      "75          76   37  New York\n",
      "80          81   42  New York\n",
      "85          86   47  New York\n",
      "90          91   22  New York\n",
      "95          96   27  New York\n",
      "Dictionary method took 0.0 seconds\n",
      "DataFrame method took 0.0009984970092773438 seconds\n"
     ]
    }
   ],
   "source": [
    "customers_dict = customers_df.to_dict(orient='records')\n",
    "\n",
    "city = 'New York'  \n",
    "cust_dict = [customer for customer in customers_dict if customer['City'] == city]\n",
    "print(cust_dict)\n",
    "cust_df = customers_df[customers_df['City'] == city]\n",
    "print(cust_df)\n",
    "import time\n",
    "\n",
    "start = time.time()\n",
    "cust_dict = [customer for customer in customers_dict if customer['City'] == city]\n",
    "end = time.time()\n",
    "print(f\"Dictionary method took {end - start} seconds\")\n",
    "\n",
    "start = time.time()\n",
    "cust_df = customers_df[customers_df['City'] == city]\n",
    "end = time.time()\n",
    "print(f\"DataFrame method took {end - start} seconds\")\n"
   ]
  },
  {
   "cell_type": "markdown",
   "id": "def407aa-57b2-461e-871e-86394c5a1a5a",
   "metadata": {},
   "source": [
    "# Task 3"
   ]
  },
  {
   "cell_type": "markdown",
   "id": "ce8454ad-3414-4282-b7dd-746cee149acc",
   "metadata": {},
   "source": [
    "Identify duplicate rows, if any, in the datasets. Remove these duplicates to ensure clean data.\n",
    "After cleaning, verify that there are no duplicates left."
   ]
  },
  {
   "cell_type": "code",
   "execution_count": 9,
   "id": "6189eabf-1c87-479e-a5c7-2993f4dea0b6",
   "metadata": {},
   "outputs": [
    {
     "name": "stdout",
     "output_type": "stream",
     "text": [
      "0\n",
      "0\n",
      "0\n",
      "0\n"
     ]
    }
   ],
   "source": [
    "print(customers_df.duplicated().sum())\n",
    "print(sales_df.duplicated().sum())\n",
    "\n",
    "\n",
    "customers_df = customers_df.drop_duplicates()\n",
    "sales_df = sales_df.drop_duplicates()\n",
    "print(customers_df.duplicated().sum())\n",
    "print(sales_df.duplicated().sum())"
   ]
  },
  {
   "cell_type": "markdown",
   "id": "a2ebc65f-b4d3-48d9-8d16-160e6ae11321",
   "metadata": {},
   "source": [
    "# Task 4 "
   ]
  },
  {
   "cell_type": "markdown",
   "id": "ca2d4421-3a3b-4dd5-a46b-52c9f104f6bb",
   "metadata": {},
   "source": [
    "Create a new column in the sales.csv data that reflects the total amount after applying a\n",
    "10% discount on the Amount column. Group the data by Product and calculate the total sales\n",
    "for each product. Present the results in a well-structured format."
   ]
  },
  {
   "cell_type": "code",
   "execution_count": 10,
   "id": "149e9536-0dbe-4e51-a3ef-22dc2dad1a2f",
   "metadata": {},
   "outputs": [
    {
     "name": "stdout",
     "output_type": "stream",
     "text": [
      "      Product  DiscountedAmount\n",
      "0  Headphones           79200.0\n",
      "1      Laptop           14400.0\n",
      "2     Monitor          100800.0\n",
      "3  Smartphone           36000.0\n",
      "4      Tablet           57600.0\n"
     ]
    }
   ],
   "source": [
    "sales_df['DiscountedAmount'] = sales_df['Amount'] * 0.9\n",
    "total_sales_by_product = sales_df.groupby('Product')['DiscountedAmount'].sum().reset_index()\n",
    "print(total_sales_by_product)\n"
   ]
  },
  {
   "cell_type": "markdown",
   "id": "de2cc088-2e91-4218-a81c-3c61241d00f8",
   "metadata": {},
   "source": [
    "# Task 5"
   ]
  },
  {
   "cell_type": "markdown",
   "id": "b4a86edc-edc7-4a4a-a435-edf97d3a3124",
   "metadata": {},
   "source": [
    "Filter the data in the customers.csv file to retain only those customers whose age falls in the\n",
    "range of 25 to 35. Save the filtered data in a new structure and analyze how many customers\n",
    "belong to each city within this age range."
   ]
  },
  {
   "cell_type": "code",
   "execution_count": 11,
   "id": "a945747a-b296-4361-b5e6-bc0de22b0187",
   "metadata": {},
   "outputs": [
    {
     "name": "stdout",
     "output_type": "stream",
     "text": [
      "City\n",
      "Houston        11\n",
      "Phoenix         8\n",
      "New York        7\n",
      "Los Angeles     7\n",
      "Chicago         7\n",
      "Name: count, dtype: int64\n"
     ]
    }
   ],
   "source": [
    "filtered_customers_age = customers_df[(customers_df['Age'] >= 25) & (customers_df['Age'] <= 35)]\n",
    "filtered_customers_age.to_csv('filtered_customers.csv', index=False)\n",
    "city_analysis = filtered_customers_age['City'].value_counts()\n",
    "print(city_analysis)\n"
   ]
  },
  {
   "cell_type": "markdown",
   "id": "60bb5b06-725d-48bd-9f11-d87a13ec1af2",
   "metadata": {},
   "source": [
    "# TASK 6"
   ]
  },
  {
   "cell_type": "markdown",
   "id": "d349bc5d-12d4-4e24-a2c2-f5ccb664ebce",
   "metadata": {},
   "source": [
    "Merge the customers.csv and sales.csv datasets on CustomerID. From the merged\n",
    "dataset:\n",
    "• Identify the city that generated the highest total sales.\n",
    "• Find the product with the most units sold."
   ]
  },
  {
   "cell_type": "code",
   "execution_count": null,
   "id": "6a7cacfd-1605-4b30-908a-ea78edcdc73a",
   "metadata": {},
   "outputs": [],
   "source": [
    "\n",
    "merged_df['DiscountedAmount'] = merged_df['Amount'] * 0.9 \n",
    "\n",
    "total_sales_by_city = merged_df.groupby('City', as_index=False)['DiscountedAmount'].sum()\n",
    "\n",
    "highest_sales_city = total_sales_by_city.loc[total_sales_by_city['DiscountedAmount'].idxmax()]\n",
    "print(f\"City with the highest total sales: {highest_sales_city['City']} (Total Sales: {highest_sales_city['DiscountedAmount']})\")\n",
    "\n",
    "total_units_sold_by_product = merged_df.groupby('Product', as_index=False)['UnitsSold'].sum()\n",
    "\n",
    "most_sold_product = total_units_sold_by_product.loc[total_units_sold_by_product['UnitsSold'].idxmax()]\n",
    "print(f\"Product with the most units sold: {most_sold_product['Product']} (Total Units Sold: {most_sold_product['UnitsSold']})\")"
   ]
  },
  {
   "cell_type": "markdown",
   "id": "2d438bcb-7a17-449b-b6cd-21361a6a7467",
   "metadata": {},
   "source": [
    "# Task 7 "
   ]
  },
  {
   "cell_type": "markdown",
   "id": "21f2019c-892b-4a12-b7b1-c7a81bc0c49c",
   "metadata": {},
   "source": [
    "Explore the merged dataset to derive insights:\n",
    "• Display the unique values in the City and Product columns.\n",
    "• Calculate the mean and median of the Amount column."
   ]
  },
  {
   "cell_type": "code",
   "execution_count": 15,
   "id": "3f85f705-5085-43b0-a11a-e746fbdec846",
   "metadata": {},
   "outputs": [
    {
     "name": "stdout",
     "output_type": "stream",
     "text": [
      "Unique Cities: ['New York' 'Los Angeles' 'Chicago' 'Houston' 'Phoenix']\n",
      "Unique Products: ['Laptop' 'Smartphone' 'Tablet' 'Headphones' 'Monitor']\n",
      "Mean Amount: 800.0\n",
      "Median Amount: 800.0\n"
     ]
    }
   ],
   "source": [
    "unique_cities = merged_df['City'].unique()\n",
    "unique_products = merged_df['Product'].unique()\n",
    "print(f\"Unique Cities: {unique_cities}\")\n",
    "print(f\"Unique Products: {unique_products}\")\n",
    "\n",
    "mean_amount = merged_df['Amount'].mean()\n",
    "median_amount = merged_df['Amount'].median()\n",
    "print(f\"Mean Amount: {mean_amount}\")\n",
    "print(f\"Median Amount: {median_amount}\")\n"
   ]
  },
  {
   "cell_type": "code",
   "execution_count": null,
   "id": "b9ef23d7-613a-406e-8d45-9a51a26d87d1",
   "metadata": {},
   "outputs": [],
   "source": []
  }
 ],
 "metadata": {
  "kernelspec": {
   "display_name": "Python 3 (ipykernel)",
   "language": "python",
   "name": "python3"
  },
  "language_info": {
   "codemirror_mode": {
    "name": "ipython",
    "version": 3
   },
   "file_extension": ".py",
   "mimetype": "text/x-python",
   "name": "python",
   "nbconvert_exporter": "python",
   "pygments_lexer": "ipython3",
   "version": "3.11.1"
  }
 },
 "nbformat": 4,
 "nbformat_minor": 5
}
