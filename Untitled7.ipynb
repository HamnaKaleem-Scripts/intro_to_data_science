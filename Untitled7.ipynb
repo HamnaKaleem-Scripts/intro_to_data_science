{
 "cells": [
  {
   "cell_type": "code",
   "execution_count": null,
   "id": "d5dbc32f-b99a-4063-9129-16a5293c4ae3",
   "metadata": {},
   "outputs": [],
   "source": [
    "# !pip install scikit-learn\n",
    "\n",
    "import streamlit as st\n",
    "import pandas as pd\n",
    "import numpy as np\n",
    "from sklearn.ensemble import RandomForestRegressor\n",
    "\n",
    "# Load your data\n",
    "data = pd.read_csv('/kaggle/input/weather-prediction/seattle-weather.csv')\n",
    "\n",
    "# Display DataFrame in Streamlit\n",
    "st.write(\"Data Preview\", data.head())\n",
    "\n",
    "# Add machine learning logic (e.g., random forest model)\n",
    "model = RandomForestRegressor()\n",
    "model.fit(X_train, y_train)\n",
    "\n",
    "# Show predictions or model results\n",
    "st.write(f\"Model Accuracy: {model.score(X_test, y_test)}\")\n"
   ]
  },
  {
   "cell_type": "code",
   "execution_count": null,
   "id": "69855c57-539a-4d1b-a306-03b90946db98",
   "metadata": {},
   "outputs": [],
   "source": []
  }
 ],
 "metadata": {
  "kernelspec": {
   "display_name": "Python 3 (ipykernel)",
   "language": "python",
   "name": "python3"
  },
  "language_info": {
   "codemirror_mode": {
    "name": "ipython",
    "version": 3
   },
   "file_extension": ".py",
   "mimetype": "text/x-python",
   "name": "python",
   "nbconvert_exporter": "python",
   "pygments_lexer": "ipython3",
   "version": "3.11.1"
  }
 },
 "nbformat": 4,
 "nbformat_minor": 5
}
