{
 "cells": [
  {
   "cell_type": "markdown",
   "id": "2480f33f-7f89-4b7a-802b-b65567d9d690",
   "metadata": {},
   "source": [
    "# Task 1: E-commerce Data Processing\n"
   ]
  },
  {
   "cell_type": "markdown",
   "id": "01962d97-8b74-461c-a0fc-0ff989f1b409",
   "metadata": {},
   "source": [
    "## Part A: Data Validation"
   ]
  },
  {
   "cell_type": "code",
   "execution_count": 2,
   "id": "e35aa006-c0c1-4e3e-a221-ed871100e394",
   "metadata": {},
   "outputs": [
    {
     "name": "stdout",
     "output_type": "stream",
     "text": [
      "[{'customer': 'Alice', 'total': 250.5}, {'customer': 'Charlie', 'total': 450}, {'customer': 'Daisy', 'total': 100.0}]\n"
     ]
    }
   ],
   "source": [
    "# Part A: Data Validation\n",
    "def validate_orders(orders):\n",
    "    def is_valid_order(order):\n",
    "        try:\n",
    "            \n",
    "            total = float(order['total'])\n",
    "            # Return True if total is numeric and non-negative\n",
    "            return total >= 0\n",
    "        except (ValueError, TypeError):\n",
    "            # Return False if conversion fails \n",
    "            return False\n",
    "\n",
    "    # Use filter\n",
    "    valid_orders = list(filter(lambda order: is_valid_order(order), orders))\n",
    "    return valid_orders  # Return the list of valid orders\n",
    "\n",
    "orders = [\n",
    "    {\"customer\": \"Alice\", \"total\": 250.5},\n",
    "    {\"customer\": \"Bob\", \"total\": \"invalid_data\"},\n",
    "    {\"customer\": \"Charlie\", \"total\": 450},\n",
    "    {\"customer\": \"Daisy\", \"total\": 100.0},\n",
    "    {\"customer\": \"Eve\", \"total\": -30},  # Invalid total\n",
    "]\n",
    "\n",
    "valid = validate_orders(orders)\n",
    "print(valid) \n"
   ]
  },
  {
   "cell_type": "markdown",
   "id": "b8d28858-27de-42f1-b9cb-479bfb2b3b25",
   "metadata": {},
   "source": [
    "## Part B: Discount Application"
   ]
  },
  {
   "cell_type": "markdown",
   "id": "3f53d905-6135-40bf-a774-47cc7c5b5442",
   "metadata": {},
   "source": [
    "• Uses the map() function with a lambda to apply the discount to qualifying orders.  \n",
    "• Returns a new list with the updated totals for each customer."
   ]
  },
  {
   "cell_type": "code",
   "execution_count": 4,
   "id": "b8e9551e-5a53-4ab5-9e0d-7dec074502fa",
   "metadata": {},
   "outputs": [
    {
     "name": "stdout",
     "output_type": "stream",
     "text": [
      "[{'customer': 'Alice', 'total': 250.5}, {'customer': 'Charlie', 'total': 405.0}, {'customer': 'Daisy', 'total': 100.0}]\n"
     ]
    }
   ],
   "source": [
    "# Part B: Discount Application\n",
    "def apply_discount(orders):\n",
    "    # Using map() to apply a 10% discount on qualifying orders\n",
    "    discounted_orders = list(map(lambda order: {**order, 'total': order['total'] * 0.9} if order['total'] > 300 else order, orders))\n",
    "    return discounted_orders\n",
    "\n",
    "\n",
    "orders = apply_discount(valid)\n",
    "print(orders) \n"
   ]
  },
  {
   "cell_type": "markdown",
   "id": "46cd9e9f-40f9-45cd-9c10-42d981ac9a80",
   "metadata": {},
   "source": [
    "## Part C: Total Sales Calculation\n"
   ]
  },
  {
   "cell_type": "markdown",
   "id": "5ff8d4f7-01be-4af5-8712-a6383b63a89f",
   "metadata": {},
   "source": [
    "Use the reduce() function with a lambda to:  \n",
    "• Calculate the total sales from the list of valid orders (after applying discounts)."
   ]
  },
  {
   "cell_type": "code",
   "execution_count": 6,
   "id": "1d2a9995-07a5-4e0a-b699-d238e3a387b5",
   "metadata": {},
   "outputs": [
    {
     "name": "stdout",
     "output_type": "stream",
     "text": [
      "755.5\n"
     ]
    }
   ],
   "source": [
    "from functools import reduce\n",
    "\n",
    "# Part C: Total Sales Calculation\n",
    "def total_sales(orders):\n",
    "    # Use reduce() to calculate the total sales\n",
    "    total = reduce(lambda acc, order: acc + order['total'], orders, 0)\n",
    "    return total  # Return the total sales amount\n",
    "discounted_orders = [\n",
    "    {\"customer\": \"Alice\", \"total\": 250.5}, \n",
    "    {\"customer\": \"Charlie\", \"total\": 405.0},  \n",
    "    {\"customer\": \"Daisy\", \"total\": 100.0} \n",
    "]\n",
    "t = total_sales(discounted_orders)\n",
    "print(t) \n"
   ]
  },
  {
   "cell_type": "markdown",
   "id": "065edc68-bded-4ce1-a01b-26c9a771a755",
   "metadata": {},
   "source": [
    "# Task 2: Iterator and Generator"
   ]
  },
  {
   "cell_type": "markdown",
   "id": "73a17801-0d37-4331-aafd-f68e54662d69",
   "metadata": {},
   "source": [
    "## Part A: Custom Iterator"
   ]
  },
  {
   "cell_type": "markdown",
   "id": "fbd9d7d8-7e81-4f1b-b88c-69a855edf676",
   "metadata": {},
   "source": [
    "Create a custom iterator class SquareIterator that:  \n",
    "• Takes an integer n and iterates over the first n natural numbers, yielding their squares."
   ]
  },
  {
   "cell_type": "code",
   "execution_count": 9,
   "id": "d9e498cc-4186-47bd-a9ff-716272e3dbf4",
   "metadata": {},
   "outputs": [
    {
     "name": "stdout",
     "output_type": "stream",
     "text": [
      "[1, 4, 9, 16, 25]\n"
     ]
    }
   ],
   "source": [
    "# Part A: Custom Iterator\n",
    "class SquareIterator:\n",
    "    def __init__(self, n):\n",
    "        self.n = n\n",
    "        self.current = 1\n",
    "    def __iter__(self):\n",
    "        return self\n",
    "    def __next__(self):\n",
    "        if self.current > self.n:\n",
    "            raise StopIteration\n",
    "        square = self.current ** 2\n",
    "        self.current += 1\n",
    "        return square\n",
    "squares = SquareIterator(5)\n",
    "print(list(squares))  \n"
   ]
  },
  {
   "cell_type": "markdown",
   "id": "9a6dc93e-4ce6-4ef2-b967-0876bf727001",
   "metadata": {},
   "source": [
    "## Part B: Fibonacci Generator"
   ]
  },
  {
   "cell_type": "markdown",
   "id": "16bdbe35-724e-4743-8690-52b4d451b5ae",
   "metadata": {},
   "source": [
    "Write a generator function fibonacci_generator() that:  \n",
    "• Yields the Fibonacci sequence up to the number n.\n"
   ]
  },
  {
   "cell_type": "code",
   "execution_count": 10,
   "id": "55ffd97a-e340-4cb1-804c-ab026f631214",
   "metadata": {},
   "outputs": [
    {
     "name": "stdout",
     "output_type": "stream",
     "text": [
      "[0, 1, 1, 2, 3, 5, 8]\n"
     ]
    }
   ],
   "source": [
    "# Part B: Fibonacci Generator\n",
    "def fibonacci_generator(n):\n",
    "    a, b = 0, 1\n",
    "    while a < n:\n",
    "        yield a\n",
    "        a, b = b, a + b\n",
    "\n",
    "a= list(fibonacci_generator(10))\n",
    "print(a) \n"
   ]
  },
  {
   "cell_type": "markdown",
   "id": "6e69d688-0357-459f-8c65-2d2c53737192",
   "metadata": {},
   "source": [
    "# Task 3: Exception Handling and Function Decorator"
   ]
  },
  {
   "cell_type": "markdown",
   "id": "59f0e321-35a4-4ff1-944c-ea28955766af",
   "metadata": {},
   "source": [
    "## Part A: Chained Exceptions"
   ]
  },
  {
   "cell_type": "markdown",
   "id": "32e47e46-19fc-4088-ac24-ded6848e9c86",
   "metadata": {},
   "source": [
    "Write a function that:  \n",
    "• Takes a list of numbers and tries to divide each number by a divisor.  \n",
    "• If the divisor is zero, raise a custom exception.  \n",
    "• If any other error occurs (e.g., non-numeric input), raise an appropriate exception and  \n",
    "chain it to the custom exception to provide context."
   ]
  },
  {
   "cell_type": "code",
   "execution_count": 11,
   "id": "eba33bb1-2b99-42e8-bba6-79b9a3d1b872",
   "metadata": {},
   "outputs": [
    {
     "name": "stdout",
     "output_type": "stream",
     "text": [
      "Divisor cannot be zero\n",
      "None\n"
     ]
    }
   ],
   "source": [
    "def function(numbers, divisor):\n",
    "    results = []\n",
    "    for i in numbers:\n",
    "        try:\n",
    "            results.append(i / divisor)\n",
    "        except ZeroDivisionError:\n",
    "            print(\"Divisor cannot be zero\")  # Handle zero divisor directly\n",
    "            return  # Exit the function \n",
    "        except TypeError as e:\n",
    "            print(f\"Error with number {number}: {e}\")  # Handle non-numeric values\n",
    "    return results\n",
    "\n",
    "\n",
    "a = [10, 20, 'invalid', 40]\n",
    "print(function(a, 0))  \n"
   ]
  },
  {
   "cell_type": "markdown",
   "id": "13f93564-ad80-43de-8cfc-4d0fa9f60514",
   "metadata": {},
   "source": [
    "## Part B: Exception Logging Decorator\n"
   ]
  },
  {
   "cell_type": "markdown",
   "id": "33c53df4-27d4-428d-b22e-0068029fb3b3",
   "metadata": {},
   "source": [
    "Create a decorator that:  \n",
    "• Logs exceptions raised during the execution of a function.  \n",
    "• It should print the exception type, message, and the function where the exception  \n",
    "occurred."
   ]
  },
  {
   "cell_type": "code",
   "execution_count": 12,
   "id": "b5108930-109e-475b-b8e8-afd37a3c7490",
   "metadata": {},
   "outputs": [
    {
     "name": "stdout",
     "output_type": "stream",
     "text": [
      "Error in function 'divide_numbers': ZeroDivisionError - division by zero\n"
     ]
    }
   ],
   "source": [
    "def log_exceptions(func):\n",
    "    def wrapper(*args, **kwargs):\n",
    "        try:\n",
    "            return func(*args, **kwargs) \n",
    "        except Exception as e:\n",
    "            print(f\"Error in function '{func.__name__}': {type(e).__name__} - {e}\")\n",
    "            raise \n",
    "    return wrapper\n",
    "\n",
    "@log_exceptions\n",
    "def divide_numbers(numbers, divisor):\n",
    "    results = []\n",
    "    for number in numbers:\n",
    "        results.append(number / divisor)\n",
    "    return results\n",
    "try:\n",
    "    print(divide_numbers([10, 20, 'invalid'], 0))  # This will raise an exception\n",
    "except ZeroDivisionError:\n",
    "    pass\n"
   ]
  },
  {
   "cell_type": "code",
   "execution_count": null,
   "id": "4ae7b712-6093-4ba2-8d7c-4a01929a1469",
   "metadata": {},
   "outputs": [],
   "source": []
  }
 ],
 "metadata": {
  "kernelspec": {
   "display_name": "Python 3 (ipykernel)",
   "language": "python",
   "name": "python3"
  },
  "language_info": {
   "codemirror_mode": {
    "name": "ipython",
    "version": 3
   },
   "file_extension": ".py",
   "mimetype": "text/x-python",
   "name": "python",
   "nbconvert_exporter": "python",
   "pygments_lexer": "ipython3",
   "version": "3.11.1"
  }
 },
 "nbformat": 4,
 "nbformat_minor": 5
}
