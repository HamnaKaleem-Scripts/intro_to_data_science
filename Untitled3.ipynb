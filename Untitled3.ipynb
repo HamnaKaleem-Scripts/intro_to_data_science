{
 "cells": [
  {
   "cell_type": "markdown",
   "id": "b970398c-ecd1-488d-ae22-9f4287b1f7ce",
   "metadata": {},
   "source": [
    " #                                               <center> Climate Data Analysis for a Research Center </center>"
   ]
  },
  {
   "cell_type": "markdown",
   "id": "ceff2bd6-6732-4170-bde2-8a4d1cd12dc9",
   "metadata": {},
   "source": [
    "# Initialize Temperature and Humidity Data"
   ]
  },
  {
   "cell_type": "code",
   "execution_count": 18,
   "id": "91affccf-65cc-4213-9598-cac11e057d79",
   "metadata": {},
   "outputs": [],
   "source": [
    "import numpy as np\n",
    "\n",
    "# Initialize\n",
    "temperature_data = np.random.uniform(-10, 40, (365, 500))\n",
    "humidity_data = np.random.uniform(0, 100, (365, 500))"
   ]
  },
  {
   "cell_type": "markdown",
   "id": "d6260cce-479e-41e7-8f10-041777c11b38",
   "metadata": {},
   "source": [
    "# Check for Missing Data"
   ]
  },
  {
   "cell_type": "code",
   "execution_count": 19,
   "id": "4fd6a8ee-6fb0-4da4-afbf-c32b5c31fe27",
   "metadata": {},
   "outputs": [],
   "source": [
    "# Introduce missing values\n",
    "missing_indices = np.random.choice(temperature_data.size, int(temperature_data.size * 0.05), replace=False)\n",
    "temperature_data.ravel()[missing_indices] = np.nan\n",
    "humidity_data.ravel()[missing_indices] = np.nan\n",
    "\n",
    "# Count missing entries\n",
    "missing_temps = np.isnan(temperature_data.sum())\n",
    "missing_humidity = np.isnan(humidity_data).sum()\n"
   ]
  },
  {
   "cell_type": "markdown",
   "id": "ef88b2fd-5554-469b-af56-f99f9e33939c",
   "metadata": {},
   "source": [
    "# Convert Temperature and Calculate Discomfort Index"
   ]
  },
  {
   "cell_type": "code",
   "execution_count": 6,
   "id": "bf3a0e17-5fbf-4fba-ab47-461f2d066559",
   "metadata": {},
   "outputs": [],
   "source": [
    "# Convert to Fahrenheit\n",
    "temperature_F = (temperature_data * 9/5) + 32\n",
    "\n",
    "# Calculate discomfort index\n",
    "feels_like = 0.72 * temperature_F + 0.3 * humidity_data\n",
    "feels_like = np.where(feels_like > 80, 80, feels_like)\n"
   ]
  },
  {
   "cell_type": "markdown",
   "id": "ce07b8d3-cdfc-44a6-a802-f0034f0f0b19",
   "metadata": {},
   "source": [
    "# Analyze January Temperatures"
   ]
  },
  {
   "cell_type": "code",
   "execution_count": 8,
   "id": "8977b79e-e345-4a81-a81a-d46bd700f0b5",
   "metadata": {},
   "outputs": [],
   "source": [
    "january_temps = temperature_data[:31]\n",
    "january_avg = np.nanmean(january_temps)\n"
   ]
  },
  {
   "cell_type": "markdown",
   "id": "33737f2c-e9f2-4d95-a21b-81ff25e5df8e",
   "metadata": {},
   "source": [
    "# Identify Extreme Temperatures"
   ]
  },
  {
   "cell_type": "code",
   "execution_count": 17,
   "id": "6a06460c-ef11-490d-90a5-f5f6cc17a6fa",
   "metadata": {},
   "outputs": [],
   "source": [
    "# Mark extreme temperatures as null\n",
    "temperature_data[temperature_data > 35] = np.nan\n",
    "null_counts_per_location = np.isnan(temperature_data).sum(axis=0)\n"
   ]
  },
  {
   "cell_type": "markdown",
   "id": "6d2eb900-aa76-40c4-994c-e52b3fbe33c9",
   "metadata": {},
   "source": [
    "# Calculate Quarterly Temperature Averages"
   ]
  },
  {
   "cell_type": "code",
   "execution_count": 10,
   "id": "186cf09b-0c2e-4ca0-b156-eb86426df7c7",
   "metadata": {},
   "outputs": [],
   "source": [
    "# Reshape for four quarters and calculate mean per location per quarter\n",
    "quarters = np.array_split(temperature_data, 4, axis=0)\n",
    "quarterly_averages = np.array([np.nanmean(q, axis=0) for q in quarters])\n"
   ]
  },
  {
   "cell_type": "markdown",
   "id": "a36e068c-5051-49d8-97a5-96ca8b4af96e",
   "metadata": {},
   "source": [
    "# Classify Humidity Levels"
   ]
  },
  {
   "cell_type": "code",
   "execution_count": 11,
   "id": "d914ed46-5a2e-4a94-baf0-6734a33ff062",
   "metadata": {},
   "outputs": [],
   "source": [
    "# Classify humidity levels\n",
    "dry_days = (humidity_data < 30).sum(axis=0)\n",
    "humid_days = (humidity_data > 70).sum(axis=0)\n"
   ]
  },
  {
   "cell_type": "markdown",
   "id": "d8d91fc5-5dcc-4080-a998-286c80cde0db",
   "metadata": {},
   "source": [
    "# Apply Daily Pressure Trend to Temperature Data"
   ]
  },
  {
   "cell_type": "code",
   "execution_count": 12,
   "id": "c766d065-01c0-4740-ab46-69c64d53e81d",
   "metadata": {},
   "outputs": [],
   "source": [
    "# Generate a daily pressure trend (simple sinusoidal variation)\n",
    "days = np.arange(365)\n",
    "pressure_trend = 5 * np.sin(2 * np.pi * days / 365)\n",
    "\n",
    "# Apply to temperature data\n",
    "temperature_adjusted = temperature_data + pressure_trend[:, np.newaxis]\n"
   ]
  },
  {
   "cell_type": "code",
   "execution_count": 13,
   "id": "7cfd1dc8-44ef-449c-bfe7-a679f0a2c0f0",
   "metadata": {},
   "outputs": [
    {
     "name": "stdout",
     "output_type": "stream",
     "text": [
      "Temperature Data Shape: (365, 500)\n",
      "Humidity Data Shape: (365, 500)\n",
      "Sample Temperature Data:\n",
      " [[-4.47035363 35.99296202 21.20026508 ... 12.03406728 -3.63434524\n",
      "   6.5980621 ]\n",
      " [22.74409809 35.27697798 22.54911831 ... 26.79923963 32.38481837\n",
      "   2.14598137]\n",
      " [12.27229782  8.72742926 17.9526993  ... 25.55244194 12.06984656\n",
      "  37.58742811]\n",
      " [ 0.45976633  7.12764571 32.29082932 ... 32.30702901 28.52369688\n",
      "  -7.6085394 ]\n",
      " [19.19913318 12.58580531 26.45407027 ... 31.83174615 38.02549517\n",
      "  14.88075025]]\n",
      "Sample Humidity Data:\n",
      " [[66.6443649  50.35794861 97.37918676 ... 58.15766607 43.97015176\n",
      "  17.65511538]\n",
      " [59.8751815  72.73985431 36.71956334 ... 84.53738785 77.9504442\n",
      "  90.31865209]\n",
      " [69.49856962 72.42526362 38.42146404 ... 48.4013624  48.29790919\n",
      "  23.4297134 ]\n",
      " [78.75191446 16.87452118 49.40421968 ... 11.0982552  28.91216341\n",
      "   1.90123382]\n",
      " [63.8440222  97.47258522 20.63965275 ... 73.67588086 61.65541114\n",
      "   1.8562158 ]]\n"
     ]
    }
   ],
   "source": [
    "import numpy as np\n",
    "\n",
    "# Initialize temperature data (Celsius) and humidity data\n",
    "temperature_data = np.random.uniform(-10, 40, (365, 500))\n",
    "humidity_data = np.random.uniform(0, 100, (365, 500))\n",
    "\n",
    "# Print the shapes of the arrays to confirm they are initialized correctly\n",
    "print(\"Temperature Data Shape:\", temperature_data.shape)\n",
    "print(\"Humidity Data Shape:\", humidity_data.shape)\n",
    "\n",
    "# Optionally, display the first few entries of each array\n",
    "print(\"Sample Temperature Data:\\n\", temperature_data[:5])  # Show first 5 days for all locations\n",
    "print(\"Sample Humidity Data:\\n\", humidity_data[:5])  # Show first 5 days for all locations\n"
   ]
  },
  {
   "cell_type": "code",
   "execution_count": null,
   "id": "d5847711-1d8d-4e5e-a39f-5b3ce570778a",
   "metadata": {},
   "outputs": [],
   "source": []
  }
 ],
 "metadata": {
  "kernelspec": {
   "display_name": "Python 3 (ipykernel)",
   "language": "python",
   "name": "python3"
  },
  "language_info": {
   "codemirror_mode": {
    "name": "ipython",
    "version": 3
   },
   "file_extension": ".py",
   "mimetype": "text/x-python",
   "name": "python",
   "nbconvert_exporter": "python",
   "pygments_lexer": "ipython3",
   "version": "3.11.1"
  }
 },
 "nbformat": 4,
 "nbformat_minor": 5
}
