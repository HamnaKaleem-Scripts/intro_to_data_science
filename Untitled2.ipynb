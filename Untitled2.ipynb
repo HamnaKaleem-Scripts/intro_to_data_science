{
 "cells": [
  {
   "cell_type": "markdown",
   "id": "7787a427-149e-4642-86bf-2e04249df3cd",
   "metadata": {},
   "source": [
    "# LAB"
   ]
  },
  {
   "cell_type": "markdown",
   "id": "4fc84b0a-50ac-45df-b1c8-31642fe9598b",
   "metadata": {},
   "source": [
    "# Task 1 "
   ]
  },
  {
   "cell_type": "markdown",
   "id": "e6948260-dd34-46ae-8ded-8acd1418023f",
   "metadata": {},
   "source": [
    "Create a 1D array of integers from 1 to 20. Reshape it into a 4x5 2D array, \n",
    "then replace all elements in the last column with zeros. Finally, flatten the \n",
    "array back to 1D and print the result.\n"
   ]
  },
  {
   "cell_type": "code",
   "execution_count": 3,
   "id": "7b929a2a-d1fd-4d47-a81c-2e5ec1d5d38b",
   "metadata": {},
   "outputs": [
    {
     "name": "stdout",
     "output_type": "stream",
     "text": [
      "Flattened array: [ 1  2  3  4  0  6  7  8  9  0 11 12 13 14  0 16 17 18 19  0]\n"
     ]
    }
   ],
   "source": [
    "import numpy as np\n",
    "\n",
    "arr1 = np.arange(1, 21)\n",
    "arr2 = arr1.reshape(4, 5)\n",
    "\n",
    "arr2[:, -1] = 0\n",
    "\n",
    "flat = arr2.flatten()\n",
    "print(\"Flattened array:\", flat)\n"
   ]
  },
  {
   "cell_type": "markdown",
   "id": "621bb054-e0ad-4a97-ab69-494a98e56355",
   "metadata": {},
   "source": [
    "# task 2"
   ]
  },
  {
   "cell_type": "markdown",
   "id": "f38d4d8d-760a-462d-82c1-b3e1fa362d16",
   "metadata": {},
   "source": [
    " Generate a 2D array of random integers between 10 and 50 with a shape of \n",
    "5x5. Calculate and print the mean, sum, minimum, and maximum values for \n",
    "each row and each column separately"
   ]
  },
  {
   "cell_type": "code",
   "execution_count": 4,
   "id": "57f9c16b-1681-4634-bf72-083cc767f518",
   "metadata": {},
   "outputs": [
    {
     "name": "stdout",
     "output_type": "stream",
     "text": [
      "Array:\n",
      " [[33 14 17 18 18]\n",
      " [17 40 48 30 19]\n",
      " [23 16 35 23 35]\n",
      " [16 18 31 41 21]\n",
      " [10 13 23 23 13]]\n",
      "\n",
      "Row Means: [20.  30.8 26.4 25.4 16.4]\n",
      "Row Sums: [100 154 132 127  82]\n",
      "Row Minimums: [14 17 16 16 10]\n",
      "Row Maximums: [33 48 35 41 23]\n",
      "\n",
      "Column Means: [19.8 20.2 30.8 27.  21.2]\n",
      "Column Sums: [ 99 101 154 135 106]\n",
      "Column Minimums: [10 13 17 18 13]\n",
      "Column Maximums: [33 40 48 41 35]\n"
     ]
    }
   ],
   "source": [
    "arr = np.random.randint(10, 50, (5, 5))\n",
    "print(\"Array:\\n\", array_5x5)\n",
    "\n",
    "row_means = arr.mean(axis=1)\n",
    "row_sums = arr.sum(axis=1)\n",
    "row_mins = arr.min(axis=1)\n",
    "row_maxs = arr.max(axis=1)\n",
    "\n",
    "col_means = arr.mean(axis=0)\n",
    "col_sums = arr.sum(axis=0)\n",
    "col_mins = arr.min(axis=0)\n",
    "col_maxs = arr.max(axis=0)\n",
    "\n",
    "print(\"\\nRow Means:\", row_means)\n",
    "print(\"Row Sums:\", row_sums)\n",
    "print(\"Row Minimums:\", row_mins)\n",
    "print(\"Row Maximums:\", row_maxs)\n",
    "print(\"\\nColumn Means:\", col_means)\n",
    "print(\"Column Sums:\", col_sums)\n",
    "print(\"Column Minimums:\", col_mins)\n",
    "print(\"Column Maximums:\", col_maxs)\n"
   ]
  },
  {
   "cell_type": "markdown",
   "id": "4da6970c-89e3-4ed8-b5bc-5c983e953ade",
   "metadata": {},
   "source": [
    "# task 3"
   ]
  },
  {
   "cell_type": "markdown",
   "id": "11bdf853-bb5a-4372-964d-99b6d738c4b7",
   "metadata": {},
   "source": [
    " Create an identity matrix of size 4x4. Add a constant (e.g., 5) to each \n",
    "element in the diagonal, and then replace the last row with a row of ones. \n",
    "Print the final matrix.\n",
    "\n"
   ]
  },
  {
   "cell_type": "code",
   "execution_count": 5,
   "id": "5901c4ff-4195-4335-94d0-c8650bafd9cb",
   "metadata": {},
   "outputs": [
    {
     "name": "stdout",
     "output_type": "stream",
     "text": [
      "Task 3 - Modified Identity Matrix:\n",
      " [[6. 0. 0. 0.]\n",
      " [0. 6. 0. 0.]\n",
      " [0. 0. 6. 0.]\n",
      " [1. 1. 1. 1.]]\n"
     ]
    }
   ],
   "source": [
    "import numpy as np\n",
    "\n",
    "identity_matrix = np.eye(4)\n",
    "identity_matrix += np.diag([5] * 4)\n",
    "identity_matrix[-1, :] = 1\n",
    "print(\"Task 3 - Modified Identity Matrix:\\n\", identity_matrix)\n"
   ]
  },
  {
   "cell_type": "markdown",
   "id": "643bee8e-1d25-4244-a4f4-cfbf00c8e670",
   "metadata": {},
   "source": [
    "# Task 4"
   ]
  },
  {
   "cell_type": "markdown",
   "id": "fdad6cf0-247b-4ba4-b052-806cdc68f680",
   "metadata": {},
   "source": [
    "Generate a 1D array of 15 random integers between 0 and 20. Count and \n",
    "display the number of occurrences of each unique value in the array, and list \n",
    "the indices of elements greater than 10."
   ]
  },
  {
   "cell_type": "code",
   "execution_count": 6,
   "id": "4fee0fa0-97db-4282-b8a8-61d3deac80d6",
   "metadata": {},
   "outputs": [
    {
     "name": "stdout",
     "output_type": "stream",
     "text": [
      "Task 4 - Random Array and Counts:\n",
      "Array: [18  6 11  1  8 18  6 14 19  7  2  5  8  7 20]\n",
      "Unique Value Counts: {np.int32(1): np.int64(1), np.int32(2): np.int64(1), np.int32(5): np.int64(1), np.int32(6): np.int64(2), np.int32(7): np.int64(2), np.int32(8): np.int64(2), np.int32(11): np.int64(1), np.int32(14): np.int64(1), np.int32(18): np.int64(2), np.int32(19): np.int64(1), np.int32(20): np.int64(1)}\n",
      "Indices of elements greater than 10: [ 0  2  5  7  8 14]\n"
     ]
    }
   ],
   "source": [
    "random_array_1d = np.random.randint(0, 21, size=15)\n",
    "unique_values, counts = np.unique(random_array_1d, return_counts=True)\n",
    "indices_greater_than_10 = np.where(random_array_1d > 10)[0]\n",
    "print(\"Task 4 - Random Array and Counts:\")\n",
    "print(\"Array:\", random_array_1d)\n",
    "print(\"Unique Value Counts:\", dict(zip(unique_values, counts)))\n",
    "print(\"Indices of elements greater than 10:\", indices_greater_than_10)"
   ]
  },
  {
   "cell_type": "markdown",
   "id": "dcb7bb5a-0b4f-473d-9d90-94e043cf916b",
   "metadata": {},
   "source": [
    "# Task 5"
   ]
  },
  {
   "cell_type": "markdown",
   "id": "f30c7c12-60e1-4e0d-97d1-fc3b6ec43302",
   "metadata": {},
   "source": [
    "Create a 3x4 array filled with random floating-point numbers between 0 and \n",
    "1. Round each element to two decimal places, replace the elements in the \n",
    "second column with 0.5, and print the modified array.\n"
   ]
  },
  {
   "cell_type": "code",
   "execution_count": 7,
   "id": "3acd883e-a864-41be-875d-360bd3b7fd91",
   "metadata": {},
   "outputs": [
    {
     "name": "stdout",
     "output_type": "stream",
     "text": [
      "Modified Array:\n",
      " [[0.28 0.5  0.02 0.94]\n",
      " [0.29 0.5  0.11 0.22]\n",
      " [0.67 0.5  0.91 0.65]]\n"
     ]
    }
   ],
   "source": [
    "import numpy as np\n",
    "float_array = np.random.rand(3, 4)\n",
    "float_array = np.round(float_array, 2)\n",
    "float_array[:, 1] = 0.5\n",
    "print(\"Modified Array:\\n\", float_array)\n"
   ]
  },
  {
   "cell_type": "code",
   "execution_count": null,
   "id": "fd8a37a9-4bd7-4f13-9ff6-0279aefac373",
   "metadata": {},
   "outputs": [],
   "source": []
  }
 ],
 "metadata": {
  "kernelspec": {
   "display_name": "Python 3 (ipykernel)",
   "language": "python",
   "name": "python3"
  },
  "language_info": {
   "codemirror_mode": {
    "name": "ipython",
    "version": 3
   },
   "file_extension": ".py",
   "mimetype": "text/x-python",
   "name": "python",
   "nbconvert_exporter": "python",
   "pygments_lexer": "ipython3",
   "version": "3.11.1"
  }
 },
 "nbformat": 4,
 "nbformat_minor": 5
}
