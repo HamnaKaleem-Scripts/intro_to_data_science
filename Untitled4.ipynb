{
 "cells": [
  {
   "cell_type": "markdown",
   "id": "a90cb99f-d1fd-44ab-9b04-3a8eb544a8ad",
   "metadata": {},
   "source": [
    "# Lab 2"
   ]
  },
  {
   "cell_type": "markdown",
   "id": "8ce835ce-4f45-43b7-81a4-37e1f8f8f19b",
   "metadata": {},
   "source": [
    "## You are managing game scores for a gaming application."
   ]
  },
  {
   "cell_type": "code",
   "execution_count": 14,
   "id": "bc9ccb95-0d69-4121-a345-519c6a9c1129",
   "metadata": {},
   "outputs": [
    {
     "name": "stdout",
     "output_type": "stream",
     "text": [
      "Updated Player Data:\n",
      " [('Alice', 2500, 5) ('Eve', 1600, 3) ('Bob', 1500, 3) ('Charlie', 1800, 4)]\n"
     ]
    }
   ],
   "source": [
    "import numpy as np\n",
    "def task1():\n",
    "    data_type = [('name', 'U20'), ('score', 'i4'), ('level', 'i4')]\n",
    "    players = np.array([\n",
    "        ('Alice', 2000, 5),\n",
    "        ('Bob', 1500, 3),\n",
    "        ('Charlie', 1800, 4)\n",
    "    ], dtype=data_type)\n",
    "    highest_level_index = np.argmax(players['level'])\n",
    "    players['score'][highest_level_index] += 500 \n",
    "    new = np.array([('David', 1200, 2)], dtype=data_type)\n",
    "    players = np.append(players, new)\n",
    "\n",
    "    insert_index = 3\n",
    "    new_entry = np.array([('Eve', 1600, 3)], dtype=data_type)\n",
    "    players = np.insert(players, insert_index, new_entry)\n",
    "\n",
    "    lowest_score_index = np.argmin(players['score'])\n",
    "    players = np.delete(players, lowest_score_index)\n",
    "\n",
    "\n",
    "task1()\n",
    "\n"
   ]
  },
  {
   "cell_type": "code",
   "execution_count": 12,
   "id": "2b6f9868-5aac-4167-95d5-8fe65b86280b",
   "metadata": {},
   "outputs": [
    {
     "data": {
      "text/plain": [
       "<function __main__.manage_game_scores()>"
      ]
     },
     "execution_count": 12,
     "metadata": {},
     "output_type": "execute_result"
    }
   ],
   "source": [
    "manage_game_scores"
   ]
  },
  {
   "cell_type": "code",
   "execution_count": 19,
   "id": "fc4a491e-dc94-4e13-b84c-9a9d47623bfd",
   "metadata": {},
   "outputs": [
    {
     "name": "stdout",
     "output_type": "stream",
     "text": [
      "\n",
      "Task 2: Analyzing Website Traffic Data\n",
      "Original Visitors Array: [500 300 400 200 150]\n",
      "Shallow Copy of Visitors Array (Reflects Changes): [500 300 400 200 150]\n",
      "Original Pages Viewed Array: [250 200 150 180 160]\n",
      "Deep Copy of Pages Viewed Array (Unaffected): [120 200 150 180 160]\n",
      "Above Threshold: [250 300 400 200 150 120 200 150 180 160]\n",
      "Below Threshold: []\n"
     ]
    }
   ],
   "source": [
    "def analyze_website_traffic():\n",
    "    a1 = np.array([250, 300, 400, 200, 150])\n",
    "    ar2 = np.array([120, 200, 150, 180, 160])\n",
    "\n",
    "    a1_1 = a1[:]\n",
    "    ar2_2 = ar2.copy()\n",
    "    combined_data = np.concatenate((a1, ar2))\n",
    "\n",
    "    threshold = 100\n",
    "    above_100= combined_data[combined_data > threshold]\n",
    "    below_100 = combined_data[combined_data <= threshold]\n",
    "\n",
    "    a1[0] = 500\n",
    "    ar2[0] = 250\n",
    "    \n",
    "    print(\"Original Visitors Array:\", a1)\n",
    "    print(\"Shallow Copy of Visitors Array :\", a1_1)\n",
    "    print(\"Original Pages Viewed Array:\", ar2)\n",
    "    print(\"Deep Copy of Pages Viewed Array:\", ar2_2)\n",
    "    print(\"Above Threshold:\", above_100)\n",
    "    print(\"Below Threshold:\", below_100)\n",
    "\n",
    "\n",
    "def main():\n",
    "\n",
    "    print(\"\\nTask 2: Analyzing Website Traffic Data\")\n",
    "    analyze_website_traffic()\n",
    "if __name__ == \"__main__\":\n",
    "    main()"
   ]
  },
  {
   "cell_type": "code",
   "execution_count": null,
   "id": "d0c91902-f7df-497b-ab21-b42ea7c58472",
   "metadata": {},
   "outputs": [],
   "source": []
  }
 ],
 "metadata": {
  "kernelspec": {
   "display_name": "Python 3 (ipykernel)",
   "language": "python",
   "name": "python3"
  },
  "language_info": {
   "codemirror_mode": {
    "name": "ipython",
    "version": 3
   },
   "file_extension": ".py",
   "mimetype": "text/x-python",
   "name": "python",
   "nbconvert_exporter": "python",
   "pygments_lexer": "ipython3",
   "version": "3.11.1"
  }
 },
 "nbformat": 4,
 "nbformat_minor": 5
}
